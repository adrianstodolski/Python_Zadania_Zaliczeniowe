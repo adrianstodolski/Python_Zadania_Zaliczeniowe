{
 "cells": [
  {
   "cell_type": "markdown",
   "metadata": {},
   "source": [
    "> <b> Python - zadania zaliczeniowe"
   ]
  },
  {
   "cell_type": "markdown",
   "metadata": {},
   "source": [
    "> <b>Autor: Adrian Stodolski\n",
    "\n",
    "> <b>Przedmiot: Python\n",
    "\n",
    "><b>Cel: Zadania zaliczeniowe\n",
    "\n",
    "><b>Prowadzacy: Szymon Maćkowiak\n",
    "\n",
    "><b>Rok: I\n",
    "\n",
    "><b>Semestr: I\n",
    "    \n",
    "> <b> Grupa: II"
   ]
  },
  {
   "cell_type": "markdown",
   "metadata": {},
   "source": [
    "---"
   ]
  },
  {
   "cell_type": "markdown",
   "metadata": {},
   "source": [
    "> <b>Biblioteki"
   ]
  },
  {
   "cell_type": "code",
   "execution_count": 79,
   "metadata": {},
   "outputs": [],
   "source": [
    "from scipy.stats import moment\n",
    "from math import sqrt\n",
    "import numpy as np\n",
    "import collections as cl\n",
    "import matplotlib as mpl"
   ]
  },
  {
   "cell_type": "markdown",
   "metadata": {},
   "source": [
    "> <b> Zad2 Korzystając z pojęcia funkcji utwórz skrypt, który będzie miał możliwość zamiany temperatury pomiędzy skalami Celsjusza i Fahrenheita (w obie strony). C = (F-32)x(5/9), F = (C*9/5)+32"
   ]
  },
  {
   "cell_type": "code",
   "execution_count": 80,
   "metadata": {},
   "outputs": [
    {
     "data": {
      "text/plain": [
       "26.666666666666668"
      ]
     },
     "execution_count": 80,
     "metadata": {},
     "output_type": "execute_result"
    }
   ],
   "source": [
    "def temp_convert(temperature, scale):\n",
    "    try:\n",
    "        temperature = float(temperature)\n",
    "        available_scales = ('c', 'f')\n",
    "        if scale not in available_scales:\n",
    "            raise ValueError('Zła skala (wpisz c dla celsiusza lub f dla fahrenheita')\n",
    "\n",
    "        if scale == 'c':\n",
    "            return (temperature - 32) * (5 / 9)\n",
    "\n",
    "        if scale == 'f':\n",
    "            return (temperature * (9 / 5)) + 32\n",
    "    except ValueError:\n",
    "        print('Błędna wartość temperatury (uywamy liczb całkowitych lub liczb zmiennoprzecinkowych)')\n",
    "\n",
    "\n",
    "temp_convert(80.0, 'c')\n"
   ]
  },
  {
   "cell_type": "markdown",
   "metadata": {},
   "source": [
    "> <b> Zad5 Utwórz skrypt, który będzie komunikować, czy wprowadzona liczba jest dodatnia czy nie"
   ]
  },
  {
   "cell_type": "code",
   "execution_count": 81,
   "metadata": {},
   "outputs": [
    {
     "name": "stdout",
     "output_type": "stream",
     "text": [
      "Wprowadź liczbę: -5\n",
      "Liczba jest ujemna\n"
     ]
    }
   ],
   "source": [
    "num = float(input(\"Wprowadź liczbę: \"))\n",
    "if num > 0:\n",
    "   print(\"Liczba jest dodatnia\")\n",
    "elif num == 0:\n",
    "   print(\"Zero\")\n",
    "else:\n",
    "   print(\"Liczba jest ujemna\")"
   ]
  },
  {
   "cell_type": "markdown",
   "metadata": {},
   "source": [
    "><b> Zad 7 Utwórz skrypt z interfejsem tekstowym, który pobierze od użytkownika zdanie i wyświetli w kolejnych wierszach litery tego zdania w odwróconej kolejności"
   ]
  },
  {
   "cell_type": "code",
   "execution_count": 82,
   "metadata": {},
   "outputs": [
    {
     "name": "stdout",
     "output_type": "stream",
     "text": [
      "Wprowadź tekst: Adrian\n",
      "n\n",
      "a\n",
      "i\n",
      "r\n",
      "d\n",
      "A\n"
     ]
    }
   ],
   "source": [
    "my_word = str(input(\"Wprowadź tekst: \"))\n",
    "word = list(my_word)\n",
    "backward = word[::-1]\n",
    "print('\\n'.join(backward))"
   ]
  },
  {
   "cell_type": "markdown",
   "metadata": {},
   "source": [
    "> <b> Zad 12 Utworzyć skrypt z interfejsem tekstowym obliczający n-ty element ciągu Fibonacciego – wykonać zadanie iteracyjnie i rekurencyjnie\n",
    "    "
   ]
  },
  {
   "cell_type": "code",
   "execution_count": 83,
   "metadata": {},
   "outputs": [
    {
     "name": "stdout",
     "output_type": "stream",
     "text": [
      "Podaj numer liczby w ciągu Fibonacciego: 15\n",
      "15 liczba w ciągu Fibonacciego to: 610\n",
      "610\n"
     ]
    }
   ],
   "source": [
    "def iterative_fibonacci(n):\n",
    "    if n == 0 or n == 1:\n",
    "        return n\n",
    "\n",
    "    f_prim = 0\n",
    "    f = 1\n",
    "    for i in range(2, n + 1):\n",
    "        m = f + f_prim\n",
    "        f_prim = f\n",
    "        f = m\n",
    "\n",
    "    return f\n",
    "\n",
    "def recursive_fibonacci(n):\n",
    "    if n == 0 or n == 1:\n",
    "        return n\n",
    "\n",
    "    return recursive_fibonacci(n-1) + recursive_fibonacci(n-2)\n",
    "\n",
    "n = int(input('Podaj numer liczby w ciągu Fibonacciego: '))\n",
    "f = iterative_fibonacci(n)\n",
    "print(str(n) + ' liczba w ciągu Fibonacciego to: ' + str(f))\n",
    "print(recursive_fibonacci(n))"
   ]
  },
  {
   "cell_type": "markdown",
   "metadata": {},
   "source": [
    "> <b> Zad 14 \n",
    "Utworzyć skrypt z interfejsem tekstowym, który będzie zwracać wiersz n-tego rzędu z trójkąta Pascala (użytkownik  podaje n, program zwraca odpowiadający wiersz trójkąta)"
   ]
  },
  {
   "cell_type": "code",
   "execution_count": 85,
   "metadata": {},
   "outputs": [
    {
     "name": "stdout",
     "output_type": "stream",
     "text": [
      "Podaj liczbę: 5\n",
      "Wynik to: \n",
      "[[1], [1, 1], [1, 2, 1], [1, 3, 3, 1], [1, 4, 6, 4, 1]]\n"
     ]
    }
   ],
   "source": [
    "liczba = int(input('Podaj liczbę: '))\n",
    "def nowywiersz (wiersz):\n",
    "    wynik = []\n",
    "    poprzedni = 0\n",
    "    for i in wiersz:\n",
    "        wynik.append(i + poprzedni)\n",
    "        poprzedni = i\n",
    "    wynik.append(poprzedni)\n",
    "    return wynik\n",
    "    \n",
    "def trojkat(n):\n",
    "    wynik = []\n",
    "    obecnie = [1]\n",
    "    for i in range(0, n):\n",
    "        wynik.append(obecnie)\n",
    "        obecnie = nowywiersz(obecnie)\n",
    "        \n",
    "    return wynik\n",
    "print('Wynik to: ')\n",
    "print(trojkat(liczba))"
   ]
  },
  {
   "cell_type": "markdown",
   "metadata": {},
   "source": [
    "> <b> Zad 19 Korzystając ze słownika, utwórz funkcję, która będzie zwracać liczbę dni danego miesiąca w roku"
   ]
  },
  {
   "cell_type": "code",
   "execution_count": 86,
   "metadata": {},
   "outputs": [
    {
     "name": "stdout",
     "output_type": "stream",
     "text": [
      "Zła nazwa miesiaca\n",
      "29\n"
     ]
    }
   ],
   "source": [
    "def day_month(month):\n",
    "    months = {\n",
    "        'styczeń': '31',\n",
    "        'luty': '29',\n",
    "        'marzec': '31',\n",
    "        'kwiecień': '30',\n",
    "        'maj': '31',\n",
    "        'czerwiec': '30',\n",
    "        'lipiec': '31',\n",
    "        'siepień': '31',\n",
    "        'wrzesień': '30',\n",
    "        'październik': '31',\n",
    "        'listopad': '30',\n",
    "        'grudzień': '31'\n",
    "    }\n",
    "\n",
    "    month = month.strip().lower()\n",
    "    print('Zła nazwa miesiaca') if month not in months.keys(\n",
    "    ) else print(months[month])\n",
    "\n",
    "\n",
    "day_month('majjj')\n",
    "day_month('luty')"
   ]
  },
  {
   "cell_type": "markdown",
   "metadata": {},
   "source": [
    "> <b> Zad 20 Korzystając ze słownika, utwórz funkcję, która będzie zwracać tłumaczenia nazw miesięcy z języka polskiego na angielski"
   ]
  },
  {
   "cell_type": "code",
   "execution_count": 87,
   "metadata": {},
   "outputs": [
    {
     "name": "stdout",
     "output_type": "stream",
     "text": [
      "Zła nazwa miesiaca\n",
      "May\n"
     ]
    }
   ],
   "source": [
    "def translate_month(month):\n",
    "    months = {\n",
    "        'styczeń': 'January',\n",
    "        'luty': 'February',\n",
    "        'marzec': 'March',\n",
    "        'kwiecień': 'April',\n",
    "        'maj': 'May',\n",
    "        'czerwiec': 'June',\n",
    "        'lipiec': 'July',\n",
    "        'siepień': 'August',\n",
    "        'wrzesień': 'September',\n",
    "        'październik': 'October',\n",
    "        'listopad': 'November',\n",
    "        'grudzień': 'December'\n",
    "    }\n",
    "\n",
    "    month = month.strip().lower()\n",
    "    print('Zła nazwa miesiaca') if month not in months.keys(\n",
    "    ) else print(months[month])\n",
    "\n",
    "\n",
    "translate_month('test')\n",
    "translate_month('maj')"
   ]
  },
  {
   "cell_type": "markdown",
   "metadata": {},
   "source": [
    "> <b> Zad 26 Utwórz funkcję, która jako argument będzie przyjmować listę liczb zmiennoprzecinkowych, a jej wynikiem będzie trzeci moment centralny (skośność)"
   ]
  },
  {
   "cell_type": "code",
   "execution_count": 88,
   "metadata": {},
   "outputs": [
    {
     "data": {
      "text/plain": [
       "11.700424319999996"
      ]
     },
     "execution_count": 88,
     "metadata": {},
     "output_type": "execute_result"
    }
   ],
   "source": [
    "def skew(x):\n",
    "    skew = 3\n",
    "    if skew == 3:\n",
    "        return moment(x, moment = skew)\n",
    "kurtoza([1.0,2.3,4.4,5.6,3.4])"
   ]
  },
  {
   "cell_type": "markdown",
   "metadata": {},
   "source": [
    "> <b> Zad 27 Utwórz funkcję, która jako argument będzie przyjmować listę liczb zmiennoprzecinkowych, a jej wynikiem będzie czwarty moment centralny (kurtoza)"
   ]
  },
  {
   "cell_type": "code",
   "execution_count": 89,
   "metadata": {},
   "outputs": [
    {
     "data": {
      "text/plain": [
       "2.58446912"
      ]
     },
     "execution_count": 89,
     "metadata": {},
     "output_type": "execute_result"
    }
   ],
   "source": [
    "def kurtoza(x):\n",
    "    kurt = 4\n",
    "    if kurt == 4:\n",
    "        return moment(x, moment = kurt)\n",
    "kurtoza([5.0,6.3,3.4,5.6,3.4])"
   ]
  },
  {
   "cell_type": "markdown",
   "metadata": {},
   "source": [
    "> <b> Zad 28 Utwórz funkcję, która jako argument będzie przyjmować dwie listy o równej liczbie elementów, a jej wynikiem będzie współczynnik korelacji"
   ]
  },
  {
   "cell_type": "code",
   "execution_count": 90,
   "metadata": {},
   "outputs": [
    {
     "data": {
      "text/plain": [
       "-0.5678140363305993"
      ]
     },
     "execution_count": 90,
     "metadata": {},
     "output_type": "execute_result"
    }
   ],
   "source": [
    "def corelation(x, y):\n",
    "    if len(x) != len(y):\n",
    "        return('Listy muszą mieć taką samą długość')\n",
    "    else:\n",
    "        sumaXY = 0\n",
    "        sumaX = 0\n",
    "        sumaY = 0\n",
    "        sumaX2 = 0\n",
    "        sumaY2 = 0\n",
    "\n",
    "        for i in range(len(x)):\n",
    "            sumaXY += x[i]*y[i]\n",
    "            sumaX += x[i]\n",
    "            sumaY += y[i]\n",
    "            sumaX2 += x[i]**2\n",
    "            sumaY2 += y[i]**2\n",
    "\n",
    "        c1 = (len(x) * sumaXY - sumaX*sumaY)\n",
    "        c2 = sqrt((len(x) * sumaX2 - sumaX**2)*(len(y) * sumaY2 - sumaY**2))\n",
    "\n",
    "        return c1/c2\n",
    "corelation([8,1,5,99,101],[65,33,4,5,6])"
   ]
  },
  {
   "cell_type": "markdown",
   "metadata": {},
   "source": [
    "> <b> Zad 31 Korzystając z instrukcji np.random.choice oraz reshape z pakietu numpy stworzyć funkcję generują macierz kwadratową stopnia N wypełnioną wartościami 0 i 255 w losowy sposób"
   ]
  },
  {
   "cell_type": "code",
   "execution_count": 91,
   "metadata": {},
   "outputs": [
    {
     "data": {
      "text/plain": [
       "array([[  0,   0, 255,   0, 255, 255, 255, 255,   0, 255, 255, 255, 255,\n",
       "        255, 255, 255, 255,   0,   0, 255],\n",
       "       [255, 255, 255,   0, 255, 255, 255, 255,   0, 255, 255,   0,   0,\n",
       "        255, 255, 255, 255,   0,   0,   0],\n",
       "       [  0,   0,   0, 255, 255,   0, 255,   0, 255, 255, 255, 255,   0,\n",
       "        255,   0,   0,   0, 255,   0,   0],\n",
       "       [  0,   0, 255, 255, 255, 255, 255, 255, 255, 255, 255, 255,   0,\n",
       "          0, 255,   0, 255, 255, 255,   0],\n",
       "       [255, 255,   0, 255,   0, 255,   0,   0, 255, 255, 255, 255, 255,\n",
       "          0,   0, 255,   0, 255,   0, 255],\n",
       "       [  0, 255, 255, 255,   0,   0,   0,   0,   0,   0, 255, 255, 255,\n",
       "          0, 255,   0, 255, 255, 255,   0],\n",
       "       [  0,   0, 255,   0,   0, 255,   0, 255, 255, 255,   0,   0,   0,\n",
       "        255, 255,   0, 255, 255,   0, 255],\n",
       "       [  0, 255, 255, 255, 255, 255,   0,   0, 255, 255, 255, 255,   0,\n",
       "          0,   0, 255,   0,   0, 255, 255],\n",
       "       [255,   0, 255, 255,   0,   0, 255, 255,   0, 255, 255, 255,   0,\n",
       "        255, 255, 255,   0, 255,   0,   0],\n",
       "       [255, 255, 255, 255, 255, 255,   0, 255,   0,   0, 255, 255,   0,\n",
       "          0,   0, 255, 255, 255,   0, 255],\n",
       "       [  0,   0, 255, 255,   0,   0, 255,   0,   0, 255, 255, 255, 255,\n",
       "          0,   0, 255, 255, 255,   0,   0],\n",
       "       [  0,   0,   0,   0, 255,   0,   0, 255, 255,   0, 255,   0,   0,\n",
       "          0, 255,   0, 255,   0, 255, 255],\n",
       "       [255, 255, 255,   0, 255,   0,   0,   0, 255,   0, 255,   0, 255,\n",
       "          0, 255,   0,   0, 255,   0,   0],\n",
       "       [255,   0,   0, 255,   0, 255,   0,   0, 255, 255,   0, 255, 255,\n",
       "        255, 255,   0, 255, 255, 255,   0],\n",
       "       [255, 255,   0, 255, 255,   0, 255,   0, 255, 255, 255, 255,   0,\n",
       "        255, 255, 255,   0, 255, 255,   0],\n",
       "       [  0,   0, 255, 255, 255, 255, 255,   0, 255,   0, 255, 255,   0,\n",
       "          0,   0, 255,   0, 255,   0,   0],\n",
       "       [255, 255,   0, 255,   0, 255,   0,   0,   0,   0, 255, 255, 255,\n",
       "        255, 255,   0,   0,   0, 255, 255],\n",
       "       [255, 255,   0,   0, 255,   0,   0, 255,   0,   0,   0, 255,   0,\n",
       "          0,   0, 255,   0,   0,   0,   0],\n",
       "       [  0, 255,   0, 255, 255,   0, 255,   0, 255,   0, 255,   0,   0,\n",
       "          0,   0, 255, 255, 255, 255, 255],\n",
       "       [  0,   0,   0, 255, 255,   0, 255,   0, 255,   0, 255,   0,   0,\n",
       "          0,   0,   0, 255, 255,   0,   0]])"
      ]
     },
     "execution_count": 91,
     "metadata": {},
     "output_type": "execute_result"
    }
   ],
   "source": [
    "def matrix(n):\n",
    "    return np.random.choice(np.array([0, 255]), (n,n))\n",
    "\n",
    "matrix(20)"
   ]
  },
  {
   "cell_type": "markdown",
   "metadata": {},
   "source": [
    "> <b> Zad 32 32. Utwórz funckję, która na zadanej macierzy zapisze wzór ustalonych struktur (blok, ul, bochenek, łódka, światła uliczne, żaba, latarnia)"
   ]
  },
  {
   "cell_type": "code",
   "execution_count": 92,
   "metadata": {},
   "outputs": [],
   "source": [
    "#"
   ]
  },
  {
   "cell_type": "markdown",
   "metadata": {},
   "source": [
    "> <b> Zad 34 Utwórz klasę Kwadrat z konstruktorem ustalającym jego bok oraz metodami: wyświetlającymi wartość tego boku, obliczającymi pole i obwód figury"
   ]
  },
  {
   "cell_type": "code",
   "execution_count": 93,
   "metadata": {},
   "outputs": [
    {
     "name": "stdout",
     "output_type": "stream",
     "text": [
      "Kwadrat o długości boku 10\n",
      "40\n",
      "100\n"
     ]
    }
   ],
   "source": [
    "class kwadrat():\n",
    "    def __init__(self, bok = 10):\n",
    "        self.bok = bok\n",
    "        \n",
    "    def show (self):\n",
    "        return \"Kwadrat o długości boku {}\".format(self.bok)\n",
    "        \n",
    "    def obwod (self):\n",
    "        return 4*self.bok\n",
    "\n",
    "    def pole (self):\n",
    "        return self.bok**2\n",
    "    \n",
    "kw = kwadrat()      \n",
    "print(kw.show())     \n",
    "print(kw.obwod())\n",
    "print(kw.pole())"
   ]
  }
 ],
 "metadata": {
  "kernelspec": {
   "display_name": "Python 3.7.5 64-bit ('DataScience': conda)",
   "language": "python",
   "name": "python37564bitdatascienceconda603cf2d926d64870b4c19d7385b80981"
  },
  "language_info": {
   "codemirror_mode": {
    "name": "ipython",
    "version": 3
   },
   "file_extension": ".py",
   "mimetype": "text/x-python",
   "name": "python",
   "nbconvert_exporter": "python",
   "pygments_lexer": "ipython3",
   "version": "3.7.5"
  },
  "toc": {
   "base_numbering": 1,
   "nav_menu": {},
   "number_sections": true,
   "sideBar": true,
   "skip_h1_title": false,
   "title_cell": "Table of Contents",
   "title_sidebar": "Contents",
   "toc_cell": false,
   "toc_position": {},
   "toc_section_display": true,
   "toc_window_display": false
  }
 },
 "nbformat": 4,
 "nbformat_minor": 2
}
